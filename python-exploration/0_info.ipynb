{
 "cells": [
  {
   "cell_type": "markdown",
   "metadata": {},
   "source": [
    "## NYC Collisions Data Set Exploration\n",
    "https://data.cityofnewyork.us/Public-Safety/Motor-Vehicle-Collisions-Crashes/h9gi-nx95/about_data\n",
    "- Downloaded on March 26th 2024\n",
    "- This data source is updated daily -- will eventually use Spark to update in daily batches\n",
    "\n",
    "\n",
    "## CAN ADD LATER - 1 yr data - Serious Injury \n",
    "https://data.cityofnewyork.us/Transportation/Serious-Injury-Response-Tracking-Analysis-Program-/xeqp-qz8h/data_preview\n",
    "\n",
    "#### CONSIDER \n",
    "https://www.nytimes.com/2019/08/08/nyregion/14th-street-busway.html\n",
    "https://www.ncbi.nlm.nih.gov/pmc/articles/PMC9364745/\n",
    "\n",
    "national increase vox article  - https://www.vox.com/23784549/pedestrian-deaths-traffic-safety-fatalities-governors-association\n",
    "\n",
    "I don't see this in the data - decline in fatalities since Aug 1st 2022 24/7 cameras - this is only on some corridors\n",
    "check if injuries and deaths have also decreased on these corridors. \n",
    "NY DOT article - https://www.nyc.gov/html/dot/html/pr2023/speed-cameras-first-year.shtml\n",
    "\n",
    "## DATA \n",
    "collision data \n",
    "\n",
    "neighborhoods \n",
    "https://data.dathere.com/dataset/nyc-neighborhoods/resource/d6db2e12-fc58-4e41-bc58-5bdfb5078131\n",
    "\n",
    "https://data.dathere.com/dataset/acbbee9e-4e37-4439-8e69-ca906f476ae3/resource/d6db2e12-fc58-4e41-bc58-5bdfb5078131/download/d085e2f8d0b54d4590b1e7d1f35594c1pediacitiesnycneighborhoods.geojson\n"
   ]
  },
  {
   "cell_type": "markdown",
   "metadata": {},
   "source": [
    "## NYC OPEN DATA - SOCRATES API CALL "
   ]
  },
  {
   "cell_type": "markdown",
   "metadata": {},
   "source": [
    "For read only requests, only an application token is required. </br> \n",
    "https://dev.socrata.com/docs/app-tokens.html\n",
    "\n",
    "\n",
    "**EXAMPLE HEADER** </br>\n",
    "GET /resource/kzjm-xkqj.json HTTP/1.1 </br>\n",
    "Host: data.seattle.gov </br>\n",
    "Accept: application/json </br>\n",
    "X-App-Token: [REDACTED] </br>"
   ]
  },
  {
   "cell_type": "markdown",
   "metadata": {},
   "source": [
    "NYC COLLISTIONS DATASET </br>\n",
    "https://dev.socrata.com/foundry/data.cityofnewyork.us/h9gi-nx95\n",
    "\n",
    "\n",
    "Soda API Links </br>\n",
    "https://dev.socrata.com/ </br>\n",
    "https://dev.socrata.com/docs/functions/# </br>\n",
    "https://dev.socrata.com/consumers/getting-started.html </br>\n",
    "\n",
    "Authentication </br>\n",
    "https://dev.socrata.com/docs/authentication.html </br>\n",
    "\n",
    "**WEATHER DATA** </br>\n",
    "https://www.worldweatheronline.com/weather-api/\n",
    "\n",
    "This one didn't have the full time frame i was looking for. <br/>\n",
    "https://open-meteo.com/en/docs/historical-weather-api#hourly=temperature_2m,rain,weather_code\n",
    "- reanalysis data \n",
    "- 9 km resolution \n",
    "\n",
    "\n"
   ]
  },
  {
   "cell_type": "markdown",
   "metadata": {},
   "source": [
    "# CALCULATE SUNRISE, SUNSET, AND TWILIGHT TIMES USING ASTRAL \n",
    "Daily for New York City, NY, USA  (lat: 40.730610, lon: -73.935242) \n",
    "\n",
    "Astral - https://pypi.org/project/astral/ \n",
    "Docs - https://sffjunkie.github.io/astral/"
   ]
  },
  {
   "cell_type": "markdown",
   "metadata": {},
   "source": [
    "api endpoint \n",
    "https://data.cityofnewyork.us/resource/5uac-w243.json\n",
    "\n",
    "limit 1000 \n"
   ]
  },
  {
   "cell_type": "markdown",
   "metadata": {},
   "source": [
    "### ADD BOROUGH CLEAN UP AND NEIGHBORHOOD \n",
    "DATA SOURCE: https://data.dathere.com/dataset/nyc-neighborhoods/resource/d6db2e12-fc58-4e41-bc58-5bdfb5078131"
   ]
  }
 ],
 "metadata": {
  "kernelspec": {
   "display_name": "de_zoom",
   "language": "python",
   "name": "python3"
  },
  "language_info": {
   "codemirror_mode": {
    "name": "ipython",
    "version": 3
   },
   "file_extension": ".py",
   "mimetype": "text/x-python",
   "name": "python",
   "nbconvert_exporter": "python",
   "pygments_lexer": "ipython3",
   "version": "3.11.5"
  }
 },
 "nbformat": 4,
 "nbformat_minor": 2
}
