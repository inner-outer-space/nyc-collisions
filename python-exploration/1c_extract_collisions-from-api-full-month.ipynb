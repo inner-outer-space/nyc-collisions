{
 "cells": [
  {
   "cell_type": "code",
   "execution_count": 1,
   "metadata": {},
   "outputs": [],
   "source": [
    "import pandas as pd\n",
    "import pyarrow as pa\n",
    "import pyarrow.parquet as pq\n",
    "from datetime import datetime, timedelta\n",
    "import time\n",
    "import calendar\n",
    "import requests\n",
    "import json\n",
    "import os"
   ]
  },
  {
   "cell_type": "code",
   "execution_count": 29,
   "metadata": {},
   "outputs": [],
   "source": [
    "year = '2019'\n",
    "month = '01'\n",
    "\n",
    "base_url = 'https://data.cityofnewyork.us/resource/h9gi-nx95.json'\n",
    "query = f\"$where=date_trunc_ym(crash_date) = '{year}-{month}'\"\n",
    "query += \"&$limit=10000\"\n",
    "query += \"&$offset={offset}\"\n",
    "#query += \"&$order=crash_date\""
   ]
  },
  {
   "cell_type": "code",
   "execution_count": 30,
   "metadata": {},
   "outputs": [
    {
     "name": "stdout",
     "output_type": "stream",
     "text": [
      "https://data.cityofnewyork.us/resource/h9gi-nx95.json?$where=date_trunc_ym(crash_date) = '2019-01'&$limit=10000&$offset={offset}\n"
     ]
    }
   ],
   "source": [
    "url = f'{base_url}?{query}'\n",
    "print(url)"
   ]
  },
  {
   "cell_type": "code",
   "execution_count": 23,
   "metadata": {},
   "outputs": [
    {
     "name": "stdout",
     "output_type": "stream",
     "text": [
      "https://data.cityofnewyork.us/resource/h9gi-nx95.json?$where=date_trunc_ym(crash_date) = '2019-01'&$limit=100000\n"
     ]
    }
   ],
   "source": [
    "url = f'{base_url}?{query}'\n",
    "print(url)\n",
    "#url = \"https://data.cityofnewyork.us/resource/h9gi-nx95.json?$where=date_trunc_ym(crash_date) = '2016-01'\"\n",
    "response = requests.get(url)\n",
    "\n",
    "if not response.ok:\n",
    "    raise RuntimeError(f\"Failed to fetch data from API: {response.status_code}\")\n",
    "\n",
    "# Normalize the json response \n",
    "df = pd.json_normalize(response.json())"
   ]
  },
  {
   "cell_type": "code",
   "execution_count": 32,
   "metadata": {},
   "outputs": [
    {
     "data": {
      "text/plain": [
       "(16929, 31)"
      ]
     },
     "execution_count": 32,
     "metadata": {},
     "output_type": "execute_result"
    }
   ],
   "source": [
    "df.shape"
   ]
  },
  {
   "cell_type": "code",
   "execution_count": 51,
   "metadata": {},
   "outputs": [],
   "source": [
    "def extract_collisions_from_api_to_df(year, month, batch_size=10000):\n",
    "    \"\"\"\n",
    "    Extracts one month of data from the NYC Open Data API into a df.\n",
    "    \n",
    "    args:\n",
    "        year (str): the year to extract data for\n",
    "        month (str): the month to extract data for\n",
    "        batch_size (int): the number of records to fetch in each API call\n",
    "    \n",
    "    returns:\n",
    "        df (pd.DataFrame): a dataframe containing the extracted data\n",
    "    \"\"\"\n",
    "    \n",
    "    # Initialize the data structures and variables\n",
    "    collisions_df = pd.DataFrame()\n",
    "    dfs = []\n",
    "    \n",
    "    year = year\n",
    "    month_str = str(month).zfill(2)\n",
    "    \n",
    "    batch_size = batch_size\n",
    "    offset = 0\n",
    "    batch_num = 0\n",
    "    \n",
    "    # Define the base URL and query\n",
    "    base_url = 'https://data.cityofnewyork.us/resource/h9gi-nx95.json'\n",
    "    query = f\"$where=date_trunc_ym(crash_date) = '{year}-{month_str}'\"\n",
    "    query += f\"&$limit={batch_size}\"\n",
    "        \n",
    "    # Fetch JSON data from the API in reasonable sized batches\n",
    "    while True:\n",
    "        # Define the URL to fetch\n",
    "        offset_query = f\"&$offset={offset}\"\n",
    "        url = f'{base_url}?{query}{offset_query}'\n",
    "        print(url)\n",
    "        \n",
    "        # Fetch the data\n",
    "        response = requests.get(url)\n",
    "        if not response.ok:\n",
    "            raise RuntimeError(f\"Failed to fetch data from API: {response.status_code}\")\n",
    "\n",
    "        # Normalize the json response \n",
    "        df = pd.json_normalize(response.json())\n",
    "        print(df.shape)\n",
    "\n",
    "        # Append the data to the list of dataframes\n",
    "        dfs.append(df)\n",
    "        \n",
    "        # Check if there are more records to fetch\n",
    "        if len(df) < batch_size:\n",
    "            break\n",
    "        \n",
    "        offset += batch_size\n",
    "        batch_num += 1\n",
    "\n",
    "    collisions_df = pd.concat(dfs)\n",
    "    collisions_df.reset_index(drop=True, inplace=True)    \n",
    "\n",
    "    return collisions_df"
   ]
  },
  {
   "cell_type": "code",
   "execution_count": 52,
   "metadata": {},
   "outputs": [
    {
     "name": "stdout",
     "output_type": "stream",
     "text": [
      "https://data.cityofnewyork.us/resource/h9gi-nx95.json?$where=date_trunc_ym(crash_date) = '2019-01'&$limit=10000&$offset=0\n",
      "(10000, 31)\n",
      "https://data.cityofnewyork.us/resource/h9gi-nx95.json?$where=date_trunc_ym(crash_date) = '2019-01'&$limit=10000&$offset=10000\n",
      "(6929, 30)\n"
     ]
    },
    {
     "data": {
      "text/plain": [
       "(16929, 31)"
      ]
     },
     "execution_count": 52,
     "metadata": {},
     "output_type": "execute_result"
    }
   ],
   "source": [
    "df2 = extract_collisions_from_api_to_df(2019, 1, 10000)\n",
    "df2.shape"
   ]
  }
 ],
 "metadata": {
  "kernelspec": {
   "display_name": "de_zoom",
   "language": "python",
   "name": "python3"
  },
  "language_info": {
   "codemirror_mode": {
    "name": "ipython",
    "version": 3
   },
   "file_extension": ".py",
   "mimetype": "text/x-python",
   "name": "python",
   "nbconvert_exporter": "python",
   "pygments_lexer": "ipython3",
   "version": "3.11.5"
  }
 },
 "nbformat": 4,
 "nbformat_minor": 2
}
