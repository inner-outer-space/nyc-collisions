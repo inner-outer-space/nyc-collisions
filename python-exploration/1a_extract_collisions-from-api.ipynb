{
 "cells": [
  {
   "cell_type": "code",
   "execution_count": 1,
   "metadata": {},
   "outputs": [],
   "source": [
    "import pandas as pd\n",
    "import pyarrow as pa\n",
    "import pyarrow.parquet as pq\n",
    "from datetime import datetime, timedelta\n",
    "import time\n",
    "import calendar\n",
    "import requests\n",
    "import json\n",
    "import os"
   ]
  },
  {
   "cell_type": "code",
   "execution_count": 8,
   "metadata": {},
   "outputs": [],
   "source": [
    "def extract_collisions_from_api_to_local(batch_size=100000, target_folder=\"../data/crash_records\", test = False):\n",
    "    \"\"\"\n",
    "    Extracts all data from the NYC Open Data API in small batches and writes them to a local parquet file.\n",
    "    There is a 5 second break between each batch to avoid overloading the API.\n",
    "    \"\"\"\n",
    "    collisions_df = pd.DataFrame()\n",
    "    offset = 0\n",
    "    batch_size = batch_size\n",
    "    batch_num = 0\n",
    "    \n",
    "    ##### DATA EXTRACTION #####\n",
    "    # Define the base URL\n",
    "    base_url = \"https://data.cityofnewyork.us/resource/h9gi-nx95.json\"\n",
    "\n",
    "    # Define the target folder  \n",
    "    if test:\n",
    "        target_folder = f'{target_folder}/test' \n",
    "    else:\n",
    "        target_folder = target_folder\n",
    "    print(target_folder)    \n",
    "    if not os.path.exists(target_folder):\n",
    "        os.makedirs(target_folder) \n",
    "    \n",
    "    # Fetch JSON data from the API in reasonable sized batches\n",
    "    while True:\n",
    "        url = f'{base_url}?$limit={batch_size}&$offset={offset}'\n",
    "        response = requests.get(url)\n",
    "\n",
    "        if not response.ok:\n",
    "            raise RuntimeError(f\"Failed to fetch data from API: {response.status_code}\")\n",
    "\n",
    "        # Normalize the json response \n",
    "        df = pd.json_normalize(response.json())\n",
    "\n",
    "        # define the pyarrow table and read the df into it\n",
    "        pa_table = pa.Table.from_pandas(df)\n",
    "        \n",
    "        output_file = f'{target_folder}/nyc_collisions_batch_{batch_num}.parquet'\n",
    "\n",
    "        # Save the data to a parquet file\n",
    "        pq.write_table(pa_table, output_file, compression='None')\n",
    "\n",
    "        print(f'batch: {batch_num} Total records collected: {offset + batch_size}')\n",
    "        \n",
    "        # Check if there are more records to fetch\n",
    "        if test:\n",
    "            if batch_num == 1:\n",
    "                break\n",
    "\n",
    "        if len(df) < batch_size:\n",
    "            break\n",
    "        \n",
    "        offset += batch_size\n",
    "        batch_num += 1\n",
    "\n",
    "        # Allow a break between calls\n",
    "        time.sleep(5)"
   ]
  },
  {
   "cell_type": "code",
   "execution_count": 9,
   "metadata": {},
   "outputs": [
    {
     "name": "stdout",
     "output_type": "stream",
     "text": [
      "../data/crash_records/test\n",
      "batch: 0 Total records collected: 100000\n",
      "batch: 1 Total records collected: 200000\n"
     ]
    }
   ],
   "source": [
    "extract_collisions_from_api_to_local(test=True)"
   ]
  }
 ],
 "metadata": {
  "kernelspec": {
   "display_name": "de_zoom",
   "language": "python",
   "name": "python3"
  },
  "language_info": {
   "codemirror_mode": {
    "name": "ipython",
    "version": 3
   },
   "file_extension": ".py",
   "mimetype": "text/x-python",
   "name": "python",
   "nbconvert_exporter": "python",
   "pygments_lexer": "ipython3",
   "version": "3.11.5"
  }
 },
 "nbformat": 4,
 "nbformat_minor": 2
}
