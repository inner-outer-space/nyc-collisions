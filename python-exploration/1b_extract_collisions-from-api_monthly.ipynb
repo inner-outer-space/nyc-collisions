{
 "cells": [
  {
   "cell_type": "code",
   "execution_count": 22,
   "metadata": {},
   "outputs": [],
   "source": [
    "import pandas as pd\n",
    "import pyarrow as pa\n",
    "import pyarrow.parquet as pq\n",
    "from datetime import datetime, timedelta\n",
    "import calendar\n",
    "import requests\n",
    "import json\n",
    "import os"
   ]
  },
  {
   "cell_type": "code",
   "execution_count": 6,
   "metadata": {},
   "outputs": [],
   "source": [
    "def get_month_start_end_dates(start_year, end_year):\n",
    "    \"\"\"\n",
    "    Get the list of start and end dates for each month from Jan of the Start Year to Dec of the End Year\n",
    "    \"\"\"\n",
    "    \n",
    "    # Define the start and end dates\n",
    "    start_date = datetime(start_year, 1, 1)\n",
    "    end_date = datetime(end_year, 12, 31)\n",
    "\n",
    "    # Loop through each month from Jan {start_year} to Dec {end_year}\n",
    "    while start_date <= end_date:\n",
    "        # Calculate the start and end dates of the current month\n",
    "        _, num_days = calendar.monthrange(start_date.year, start_date.month)\n",
    "        start_of_month = datetime(start_date.year, start_date.month, 1)\n",
    "        end_of_month = datetime(start_date.year, start_date.month, num_days)\n",
    "\n",
    "        yield start_of_month, end_of_month\n",
    "        # Move to the next month\n",
    "        start_date = end_of_month + timedelta(days=1)\n",
    "        \n"
   ]
  },
  {
   "cell_type": "code",
   "execution_count": null,
   "metadata": {},
   "outputs": [],
   "source": [
    "for start_date, end_date in get_month_start_end_dates(2023, 2023):\n",
    "    print(f\"Start Date: {start_date}, End Date: {end_date}\")\n"
   ]
  },
  {
   "cell_type": "code",
   "execution_count": 24,
   "metadata": {},
   "outputs": [],
   "source": [
    "def extract_collisions_from_api_to_local(start_year, end_year):\n",
    "    \"\"\"\n",
    "    Extracts data from the NYC Open Data API for each month from Jan Start Year to Dec End Year\n",
    "    \"\"\"\n",
    "    ##### INPUT VALIDATION #####\n",
    "    # Check if start_year and end_year are integers and have exactly four digits\n",
    "    if not isinstance(start_year, int) or not isinstance(end_year, int):\n",
    "        raise ValueError(\"Start year and end year must be integers\")\n",
    "\n",
    "    # Check if start_year and end_year are within the specified range\n",
    "    if start_year < 2012 or start_year > 2023 or end_year < 2012 or end_year > 2023:\n",
    "        raise ValueError(\"Start year and end year must be between 2012 and 2023.\")\n",
    "    \n",
    "    ##### DATA EXTRACTION #####\n",
    "    # Define the base URL\n",
    "    base_url = \"https://data.cityofnewyork.us/resource/h9gi-nx95.json?\"\n",
    "\n",
    "    # Define the target folder\n",
    "    target_folder = \"../data/crash_records\"\n",
    "    \n",
    "    if not os.path.exists(target_folder):\n",
    "        os.makedirs(target_folder)\n",
    "\n",
    "    for start_date, end_of_month in get_month_start_end_dates(start_year, end_year):\n",
    "\n",
    "        # Extract month and year\n",
    "        month_year = start_date.strftime(\"%m-%Y\")\n",
    "        \n",
    "        # Construct the URL for the current month\n",
    "        url = f\"{base_url}$where=crash_date between '{start_date.isoformat()}' and '{end_of_month.isoformat()}'\"\n",
    "        response = requests.get(url)\n",
    "        \n",
    "        if not response.ok:\n",
    "            raise RuntimeError(f\"Failed to fetch data from API: {response.status_code}\")\n",
    "\n",
    "        # Normalize the json response \n",
    "        df = pd.json_normalize(response.json())\n",
    "\n",
    "        # define the pyarrow table and read the df into it\n",
    "        pa_table = pa.Table.from_pandas(df)\n",
    "\n",
    "        output_file = f'{target_folder}/nyc_collisions_{month_year}.parquet'\n",
    "        # Save the data to a parquet file\n",
    "        pq.write_table(pa_table, output_file, compression='None')\n",
    "        \n",
    "        print(f'Month: {month_year} done')\n",
    "\n",
    "    return "
   ]
  },
  {
   "cell_type": "code",
   "execution_count": null,
   "metadata": {},
   "outputs": [],
   "source": [
    "extract_collisions_from_api_to_local(2021, 2022)"
   ]
  }
 ],
 "metadata": {
  "kernelspec": {
   "display_name": "de_zoom",
   "language": "python",
   "name": "python3"
  },
  "language_info": {
   "codemirror_mode": {
    "name": "ipython",
    "version": 3
   },
   "file_extension": ".py",
   "mimetype": "text/x-python",
   "name": "python",
   "nbconvert_exporter": "python",
   "pygments_lexer": "ipython3",
   "version": "3.11.5"
  }
 },
 "nbformat": 4,
 "nbformat_minor": 2
}
