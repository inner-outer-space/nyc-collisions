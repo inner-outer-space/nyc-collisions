{
 "cells": [
  {
   "cell_type": "code",
   "execution_count": 2,
   "metadata": {},
   "outputs": [],
   "source": [
    "import os\n",
    "import subprocess\n",
    "import time"
   ]
  },
  {
   "cell_type": "markdown",
   "metadata": {},
   "source": [
    "This doesn't work... the bash script was used instead. "
   ]
  },
  {
   "cell_type": "code",
   "execution_count": 3,
   "metadata": {},
   "outputs": [],
   "source": [
    "# Define the base URL and pipeline run template\n",
    "base_url = \"http://localhost:6789/api/pipeline_schedules/17/pipeline_runs/dd9d0f7f95474dd1aaab9f8d0cd6ff0c\"\n",
    "template = '''\n",
    "{\n",
    "  \"pipeline_run\": {\n",
    "    \"variables\": {\n",
    "      \"year\": \"%d\",\n",
    "      \"month\": \"%02d\"\n",
    "      \"output_parquet\": \"nyc_collisions_%d_%02d_.parquet\"\n",
    "    }\n",
    "  }\n",
    "}'''"
   ]
  },
  {
   "cell_type": "code",
   "execution_count": 9,
   "metadata": {},
   "outputs": [
    {
     "name": "stdout",
     "output_type": "stream",
     "text": [
      "curl -X POST http://localhost:6789/api/pipeline_schedules/17/pipeline_runs/dd9d0f7f95474dd1aaab9f8d0cd6ff0c --header 'Content-Type: application/json' --data '\n",
      "{\n",
      "  \"pipeline_run\": {\n",
      "    \"variables\": {\n",
      "      \"year\": \"2013\",\n",
      "      \"month\": \"01\"\n",
      "      \"output_parquet\": \"nyc_collisions_2013_01_.parquet\"\n",
      "    }\n",
      "  }\n",
      "}'\n"
     ]
    },
    {
     "name": "stderr",
     "output_type": "stream",
     "text": [
      "  % Total    % Received % Xferd  Average Speed   Time    Time     Time  Current\n",
      "                                 Dload  Upload   Total   Spent    Left  Speed\n",
      "100  5028  100  4875  100   153   104k   3369 --:--:-- --:--:-- --:--:--  109k\n"
     ]
    },
    {
     "name": "stdout",
     "output_type": "stream",
     "text": [
      "{\"error\": {\"code\": 500, \"errors\": [\"  File \\\"/usr/local/bin/mage\\\", line 8, in <module>\\n    sys.exit(app())\\n\", \"  File \\\"/usr/local/lib/python3.10/site-packages/typer/main.py\\\", line 311, in __call__\\n    return get_command(self)(*args, **kwargs)\\n\", \"  File \\\"/usr/local/lib/python3.10/site-packages/click/core.py\\\", line 1130, in __call__\\n    return self.main(*args, **kwargs)\\n\", \"  File \\\"/usr/local/lib/python3.10/site-packages/typer/core.py\\\", line 778, in main\\n    return _main(\\n\", \"  File \\\"/usr/local/lib/python3.10/site-packages/typer/core.py\\\", line 216, in _main\\n    rv = self.invoke(ctx)\\n\", \"  File \\\"/usr/local/lib/python3.10/site-packages/click/core.py\\\", line 1657, in invoke\\n    return _process_result(sub_ctx.command.invoke(sub_ctx))\\n\", \"  File \\\"/usr/local/lib/python3.10/site-packages/click/core.py\\\", line 1404, in invoke\\n    return ctx.invoke(self.callback, **ctx.params)\\n\", \"  File \\\"/usr/local/lib/python3.10/site-packages/click/core.py\\\", line 760, in invoke\\n    return __callback(*args, **kwargs)\\n\", \"  File \\\"/usr/local/lib/python3.10/site-packages/typer/main.py\\\", line 683, in wrapper\\n    return callback(**use_params)  # type: ignore\\n\", \"  File \\\"/usr/local/lib/python3.10/site-packages/mage_ai/cli/main.py\\\", line 163, in start\\n    start_server(\\n\", \"  File \\\"/usr/local/lib/python3.10/site-packages/mage_ai/server/server.py\\\", line 667, in start_server\\n    asyncio.run(\\n\", \"  File \\\"/usr/local/lib/python3.10/asyncio/runners.py\\\", line 44, in run\\n    return loop.run_until_complete(main)\\n\", \"  File \\\"/usr/local/lib/python3.10/asyncio/base_events.py\\\", line 636, in run_until_complete\\n    self.run_forever()\\n\", \"  File \\\"/usr/local/lib/python3.10/asyncio/base_events.py\\\", line 603, in run_forever\\n    self._run_once()\\n\", \"  File \\\"/usr/local/lib/python3.10/site-packages/nest_asyncio.py\\\", line 129, in _run_once\\n    handle._run()\\n\", \"  File \\\"/usr/local/lib/python3.10/asyncio/events.py\\\", line 80, in _run\\n    self._context.run(self._callback, *self._args)\\n\", \"  File \\\"/usr/local/lib/python3.10/site-packages/mage_ai/server/server.py\\\", line 592, in main\\n    get_messages(\\n\", \"  File \\\"/usr/local/lib/python3.10/site-packages/mage_ai/server/subscriber.py\\\", line 14, in get_messages\\n    message = client.get_iopub_msg(timeout=1)\\n\", \"  File \\\"/usr/local/lib/python3.10/site-packages/jupyter_client/utils.py\\\", line 27, in wrapped\\n    return loop.run_until_complete(future)\\n\", \"  File \\\"/usr/local/lib/python3.10/site-packages/nest_asyncio.py\\\", line 93, in run_until_complete\\n    self._run_once()\\n\", \"  File \\\"/usr/local/lib/python3.10/site-packages/nest_asyncio.py\\\", line 129, in _run_once\\n    handle._run()\\n\", \"  File \\\"/usr/local/lib/python3.10/asyncio/events.py\\\", line 80, in _run\\n    self._context.run(self._callback, *self._args)\\n\", \"  File \\\"/usr/local/lib/python3.10/site-packages/nest_asyncio.py\\\", line 205, in step\\n    step_orig(task, exc)\\n\", \"  File \\\"/usr/local/lib/python3.10/asyncio/tasks.py\\\", line 232, in __step\\n    result = coro.send(None)\\n\", \"  File \\\"/usr/local/lib/python3.10/site-packages/tornado/web.py\\\", line 1709, in _execute\\n    self._handle_request_exception(e)\\n\", \"  File \\\"/usr/local/lib/python3.10/site-packages/tornado/web.py\\\", line 1766, in _handle_request_exception\\n    self.send_error(500, exc_info=sys.exc_info())\\n\", \"  File \\\"/usr/local/lib/python3.10/site-packages/tornado/web.py\\\", line 1217, in send_error\\n    self.write_error(status_code, **kwargs)\\n\", \"  File \\\"/usr/local/lib/python3.10/site-packages/mage_ai/server/api/base.py\\\", line 66, in write_error\\n    errors=traceback.format_stack(),\\n\"], \"exception\": \"Expecting ',' delimiter: line 7 column 7 (char 90)\", \"message\": \"Traceback (most recent call last):\\n  File \\\"/usr/local/lib/python3.10/site-packages/tornado/web.py\\\", line 1702, in _execute\\n    result = method(*self.path_args, **self.path_kwargs)\\n  File \\\"/usr/local/lib/python3.10/site-packages/mage_ai/orchestration/db/__init__.py\\\", line 149, in func_with_rollback\\n    return func(*args, **kwargs)\\n  File \\\"/usr/local/lib/python3.10/site-packages/mage_ai/server/api/triggers.py\\\", line 33, in post\\n    payload = self.get_payload()\\n  File \\\"/usr/local/lib/python3.10/site-packages/mage_ai/server/api/base.py\\\", line 90, in get_payload\\n    payload = json.loads(self.request.body)\\n  File \\\"/usr/local/lib/python3.10/json/__init__.py\\\", line 346, in loads\\n    return _default_decoder.decode(s)\\n  File \\\"/usr/local/lib/python3.10/json/decoder.py\\\", line 337, in decode\\n    obj, end = self.raw_decode(s, idx=_w(s, 0).end())\\n  File \\\"/usr/local/lib/python3.10/json/decoder.py\\\", line 353, in raw_decode\\n    obj, end = self.scan_once(s, idx)\\njson.decoder.JSONDecodeError: Expecting ',' delimiter: line 7 column 7 (char 90)\\n\"}, \"url_parameters\": {\"pipeline_schedule_id\": \"17\", \"token\": \"dd9d0f7f95474dd1aaab9f8d0cd6ff0c\"}}curl -X POST http://localhost:6789/api/pipeline_schedules/17/pipeline_runs/dd9d0f7f95474dd1aaab9f8d0cd6ff0c --header 'Content-Type: application/json' --data '\n",
      "{\n",
      "  \"pipeline_run\": {\n",
      "    \"variables\": {\n",
      "      \"year\": \"2013\",\n",
      "      \"month\": \"02\"\n",
      "      \"output_parquet\": \"nyc_collisions_2013_02_.parquet\"\n",
      "    }\n",
      "  }\n",
      "}'\n",
      "{\"error\": {\"code\": 500, \"errors\": [\"  File \\\"/usr/local/bin/mage\\\", line 8, in <module>\\n    sys.exit(app())\\n\", \"  File \\\"/usr/local/lib/python3.10/site-packages/typer/main.py\\\", line 311, in __call__\\n    return get_command(self)(*args, **kwargs)\\n\", \"  File \\\"/usr/local/lib/python3.10/site-packages/click/core.py\\\", line 1130, in __call__\\n    return self.main(*args, **kwargs)\\n\", \"  File \\\"/usr/local/lib/python3.10/site-packages/typer/core.py\\\", line 778, in main\\n    return _main(\\n\", \"  File \\\"/usr/local/lib/python3.10/site-packages/typer/core.py\\\", line 216, in _main\\n    rv = self.invoke(ctx)\\n\", \"  File \\\"/usr/local/lib/python3.10/site-packages/click/core.py\\\", line 1657, in invoke\\n    return _process_result(sub_ctx.command.invoke(sub_ctx))\\n\", \"  File \\\"/usr/local/lib/python3.10/site-packages/click/core.py\\\", line 1404, in invoke\\n    return ctx.invoke(self.callback, **ctx.params)\\n\", \"  File \\\"/usr/local/lib/python3.10/site-packages/click/core.py\\\", line 760, in invoke\\n    return __callback(*args, **kwargs)\\n\", \"  File \\\"/usr/local/lib/python3.10/site-packages/typer/main.py\\\", line 683, in wrapper\\n    return callback(**use_params)  # type: ignore\\n\", \"  File \\\"/usr/local/lib/python3.10/site-packages/mage_ai/cli/main.py\\\", line 163, in start\\n    start_server(\\n\", \"  File \\\"/usr/local/lib/python3.10/site-packages/mage_ai/server/server.py\\\", line 667, in start_server\\n    asyncio.run(\\n\", \"  File \\\"/usr/local/lib/python3.10/asyncio/runners.py\\\", line 44, in run\\n    return loop.run_until_complete(main)\\n\", \"  File \\\"/usr/local/lib/python3.10/asyncio/base_events.py\\\", line 636, in run_until_complete\\n    self.run_forever()\\n\", \"  File \\\"/usr/local/lib/python3.10/asyncio/base_events.py\\\", line 603, in run_forever\\n    self._run_once()\\n\", \"  File \\\"/usr/local/lib/python3.10/site-packages/nest_asyncio.py\\\", line 129, in _run_once\\n    handle._run()\\n\", \"  File \\\"/usr/local/lib/python3.10/asyncio/events.py\\\", line 80, in _run\\n    self._context.run(self._callback, *self._args)\\n\", \"  File \\\"/usr/local/lib/python3.10/site-packages/mage_ai/server/server.py\\\", line 592, in main\\n    get_messages(\\n\", \"  File \\\"/usr/local/lib/python3.10/site-packages/mage_ai/server/subscriber.py\\\", line 14, in get_messages\\n    message = client.get_iopub_msg(timeout=1)\\n\", \"  File \\\"/usr/local/lib/python3.10/site-packages/jupyter_client/utils.py\\\", line 27, in wrapped\\n    return loop.run_until_complete(future)\\n\", \"  File \\\"/usr/local/lib/python3.10/site-packages/nest_asyncio.py\\\", line 93, in run_until_complete\\n    self._run_once()\\n\", \"  File \\\"/usr/local/lib/python3.10/site-packages/nest_asyncio.py\\\", line 129, in _run_once\\n    handle._run()\\n\", \"  File \\\"/usr/local/lib/python3.10/asyncio/events.py\\\", line 80, in _run\\n    self._context.run(self._callback, *self._args)\\n\", \"  File \\\"/usr/local/lib/python3.10/site-packages/nest_asyncio.py\\\", line 205, in step\\n    step_orig(task, exc)\\n\", \"  File \\\"/usr/local/lib/python3.10/asyncio/tasks.py\\\", line 232, in __step\\n    result = coro.send(None)\\n\", \"  File \\\"/usr/local/lib/python3.10/site-packages/tornado/web.py\\\", line 1709, in _execute\\n    self._handle_request_exception(e)\\n\", \"  File \\\"/usr/local/lib/python3.10/site-packages/tornado/web.py\\\", line 1766, in _handle_request_exception\\n    self.send_error(500, exc_info=sys.exc_info())\\n\", \"  File \\\"/usr/local/lib/python3.10/site-packages/tornado/web.py\\\", line 1217, in send_error\\n    self.write_error(status_code, **kwargs)\\n\", \"  File \\\"/usr/local/lib/python3.10/site-packages/mage_ai/server/api/base.py\\\", line 66, in write_error\\n    errors=traceback.format_stack(),\\n\"], \"exception\": \"Expecting ',' delimiter: line 7 column 7 (char 90)\", \"message\": \"Traceback (most recent call last):\\n  File \\\"/usr/local/lib/python3.10/site-packages/tornado/web.py\\\", line 1702, in _execute\\n    result = method(*self.path_args, **self.path_kwargs)\\n  File \\\"/usr/local/lib/python3.10/site-packages/mage_ai/orchestration/db/__init__.py\\\", line 149, in func_with_rollback\\n    return func(*args, **kwargs)\\n  File \\\"/usr/local/lib/python3.10/site-packages/mage_ai/server/api/triggers.py\\\", line 33, in post\\n    payload = self.get_payload()\\n  File \\\"/usr/local/lib/python3.10/site-packages/mage_ai/server/api/base.py\\\", line 90, in get_payload\\n    payload = json.loads(self.request.body)\\n  File \\\"/usr/local/lib/python3.10/json/__init__.py\\\", line 346, in loads\\n    return _default_decoder.decode(s)\\n  File \\\"/usr/local/lib/python3.10/json/decoder.py\\\", line 337, in decode\\n    obj, end = self.raw_decode(s, idx=_w(s, 0).end())\\n  File \\\"/usr/local/lib/python3.10/json/decoder.py\\\", line 353, in raw_decode\\n    obj, end = self.scan_once(s, idx)\\njson.decoder.JSONDecodeError: Expecting ',' delimiter: line 7 column 7 (char 90)\\n\"}, \"url_parameters\": {\"pipeline_schedule_id\": \"17\", \"token\": \"dd9d0f7f95474dd1aaab9f8d0cd6ff0c\"}}"
     ]
    },
    {
     "name": "stderr",
     "output_type": "stream",
     "text": [
      "  % Total    % Received % Xferd  Average Speed   Time    Time     Time  Current\n",
      "                                 Dload  Upload   Total   Spent    Left  Speed\n",
      "100  5028  100  4875  100   153  1078k  34662 --:--:-- --:--:-- --:--:-- 1227k\n"
     ]
    }
   ],
   "source": [
    "# Loop through years from 2013 to 2023\n",
    "for year in range(2013, 2014):  # 2024 is exclusive\n",
    "    # Loop through all 12 months\n",
    "    for month in range(1, 3):\n",
    "        # Execute curl command\n",
    "        cmd = f\"curl -X POST {base_url} --header 'Content-Type: application/json' --data '{template % (year, month, year, month)}'\"\n",
    "        # Print the command for debugging\n",
    "        print(cmd)\n",
    "        # Allow a break between calls\n",
    "        time.sleep(30)\n",
    "        # Uncomment the following line to execute the command\n",
    "        os.system(cmd)\n",
    "        # Alternatively, you can use subprocess module to execute the command\n",
    "        #subprocess.run(cmd, shell=True)"
   ]
  }
 ],
 "metadata": {
  "kernelspec": {
   "display_name": "de_zoom",
   "language": "python",
   "name": "python3"
  },
  "language_info": {
   "codemirror_mode": {
    "name": "ipython",
    "version": 3
   },
   "file_extension": ".py",
   "mimetype": "text/x-python",
   "name": "python",
   "nbconvert_exporter": "python",
   "pygments_lexer": "ipython3",
   "version": "3.11.5"
  }
 },
 "nbformat": 4,
 "nbformat_minor": 2
}
