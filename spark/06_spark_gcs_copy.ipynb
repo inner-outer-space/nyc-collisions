{
 "cells": [
  {
   "cell_type": "markdown",
   "id": "30f1b6a2",
   "metadata": {},
   "source": [
    "## CONNECTING TO GOOGLE CLOUD STORAGE FROM LOCAL SPARK\n",
    "In the last notebook we created a local session for spark and used the data saved locally. This time we want to pull data from GCS. In order to do that, we need to first upload the parquet files we created before to GCS. -m is for running multi-thread.\n",
    "\n",
    "gsutil cp -m -r data/pq/ gs://ny-taxi-data-for-spark/pq"
   ]
  },
  {
   "cell_type": "markdown",
   "id": "6f820428",
   "metadata": {},
   "source": [
    "#### GET THE DATA FROM GOOGLE CLOUD\n",
    "Download the Spark GCS connector so that spark will understand how to read this URL \n",
    "You need the .jar file - cloud storage connector for Hadoop3 \n",
    "\n",
    "https://cloud.google.com/dataproc/docs/concepts/connectors/cloud-storage\n"
   ]
  },
  {
   "cell_type": "code",
   "execution_count": 1,
   "id": "3307b886",
   "metadata": {},
   "outputs": [],
   "source": [
    "import pyspark\n",
    "from pyspark.sql import SparkSession\n",
    "from pyspark.conf import SparkConf\n",
    "from pyspark.context import SparkContext\n",
    "\n",
    "import os"
   ]
  },
  {
   "cell_type": "code",
   "execution_count": 4,
   "id": "c2fbbf53",
   "metadata": {},
   "outputs": [
    {
     "name": "stdout",
     "output_type": "stream",
     "text": [
      "/home/lulu/spark/spark-3.5.0-bin-hadoop3\n"
     ]
    }
   ],
   "source": [
    "spark_home = os.environ.get('SPARK_HOME')\n",
    "jar_file = os.path.join(spark_home, 'lib', 'gcs-connector-hadoop3-latest.jar')\n",
    "print(spark_home)"
   ]
  },
  {
   "cell_type": "code",
   "execution_count": 15,
   "id": "48ff7a1b",
   "metadata": {},
   "outputs": [],
   "source": [
    "spark.stop()"
   ]
  },
  {
   "cell_type": "code",
   "execution_count": 5,
   "id": "a160baea",
   "metadata": {},
   "outputs": [],
   "source": [
    "credentials_location = '/home/lulu/.gcp-keys/dbt-ny-taxi-key.json'\n",
    "\n",
    "conf = SparkConf() \\\n",
    "    .setMaster('local[*]') \\\n",
    "    .setAppName('test') \\\n",
    "    .set(\"spark.jars\", jar_file) \\\n",
    "    .set(\"spark.hadoop.google.cloud.auth.service.account.enable\", \"true\") \\\n",
    "    .set(\"spark.hadoop.google.cloud.auth.service.account.json.keyfile\", credentials_location)"
   ]
  },
  {
   "cell_type": "markdown",
   "id": "97dc994c",
   "metadata": {},
   "source": [
    "## Create the Spark Context. \n",
    "In the previous examples, we initiated a Spark application with the SparkSession.builder() method, which creates a SparkContext. For connecting to GCS, it is common practice to first explicitly define the sparkContext with Hadoop config properties related to GCS and then create a session.  \n",
    "\n",
    "The abstract (URIs gs://) and concrete FileSystem implementations are defined here with classes in the connector specified in the config. Using this implementation when interacting with GCS ensures that Spark Hadoop can read and write to GCS correctly. \n",
    "\n",
    "confirmed that the class was in the version of the jar file I downloaded \n",
    "jar tf gcs-connector-hadoop3-latest.jar | grep GoogleHadoopFS\n"
   ]
  },
  {
   "cell_type": "code",
   "execution_count": 6,
   "id": "96a478ec",
   "metadata": {},
   "outputs": [
    {
     "name": "stderr",
     "output_type": "stream",
     "text": [
      "24/04/03 10:20:41 WARN Utils: Your hostname, pepper resolves to a loopback address: 127.0.1.1; using 192.168.178.64 instead (on interface wlp2s0)\n",
      "24/04/03 10:20:41 WARN Utils: Set SPARK_LOCAL_IP if you need to bind to another address\n",
      "24/04/03 10:20:41 WARN NativeCodeLoader: Unable to load native-hadoop library for your platform... using builtin-java classes where applicable\n",
      "Setting default log level to \"WARN\".\n",
      "To adjust logging level use sc.setLogLevel(newLevel). For SparkR, use setLogLevel(newLevel).\n",
      "24/04/03 10:20:42 WARN Utils: Service 'SparkUI' could not bind on port 4040. Attempting port 4041.\n"
     ]
    }
   ],
   "source": [
    "sc = SparkContext(conf=conf)\n",
    "\n",
    "hadoop_conf = sc._jsc.hadoopConfiguration()\n",
    "\n",
    "hadoop_conf.set(\"fs.AbstractFileSystem.gs.impl\",  \"com.google.cloud.hadoop.fs.gcs.GoogleHadoopFS\")\n",
    "hadoop_conf.set(\"fs.gs.impl\", \"com.google.cloud.hadoop.fs.gcs.GoogleHadoopFileSystem\")\n",
    "hadoop_conf.set(\"fs.gs.auth.service.account.json.keyfile\", credentials_location)\n",
    "hadoop_conf.set(\"fs.gs.auth.service.account.enable\", \"true\")"
   ]
  },
  {
   "cell_type": "markdown",
   "id": "9e703c93",
   "metadata": {},
   "source": [
    "We have a configuration and context. Now we need to create a session. "
   ]
  },
  {
   "cell_type": "code",
   "execution_count": 7,
   "id": "3529b657",
   "metadata": {},
   "outputs": [],
   "source": [
    "spark = SparkSession.builder \\\n",
    "    .config(conf=sc.getConf()) \\\n",
    "    .getOrCreate()"
   ]
  },
  {
   "cell_type": "code",
   "execution_count": 8,
   "id": "390bf152",
   "metadata": {},
   "outputs": [
    {
     "name": "stdout",
     "output_type": "stream",
     "text": [
      "gs://ny-taxi-data-for-spark/collisions.parquet\n",
      "gs://ny-taxi-data-for-spark/code/\n",
      "gs://ny-taxi-data-for-spark/pq/\n"
     ]
    }
   ],
   "source": [
    "#!gsutil ls gs://ny-taxi-data-for-spark/pq/green/\n",
    "!gsutil ls gs://ny-taxi-data-for-spark/"
   ]
  },
  {
   "cell_type": "code",
   "execution_count": 9,
   "id": "1ee1eb1d",
   "metadata": {},
   "outputs": [
    {
     "name": "stderr",
     "output_type": "stream",
     "text": [
      "                                                                                \r"
     ]
    }
   ],
   "source": [
    "#df_green = spark.read.parquet('gs://ny-taxi-data-for-spark/pq/green/*/*')\n",
    "df_collisions = spark.read.parquet('gs://ny-taxi-data-for-spark/collisions.parquet')\n",
    "#df_green = spark.read.parquet('gs://mage-zoomcamp-lulu-eu/green/*')"
   ]
  },
  {
   "cell_type": "code",
   "execution_count": null,
   "id": "bc5b7920",
   "metadata": {},
   "outputs": [],
   "source": [
    "df_green = spark.read.parquet('gs://ny-taxi-data-for-spark/pq/green/*/*')\n",
    "df_green.show(5)"
   ]
  },
  {
   "cell_type": "markdown",
   "id": "b50e767b",
   "metadata": {},
   "source": [
    "I had auth issues and had to add storage object permissions in GCP. "
   ]
  },
  {
   "cell_type": "code",
   "execution_count": 10,
   "id": "0ca5ee99",
   "metadata": {},
   "outputs": [
    {
     "name": "stderr",
     "output_type": "stream",
     "text": [
      "24/04/03 10:21:16 WARN SparkStringUtils: Truncated the string representation of a plan since it was too large. This behavior can be adjusted by setting 'spark.sql.debug.maxToStringFields'.\n",
      "                                                                                \r"
     ]
    },
    {
     "name": "stdout",
     "output_type": "stream",
     "text": [
      "+--------------------+----------+--------------------+---------------+-------------------------+------------------------+-----------------------------+----------------------------+-------------------------+------------------------+--------------------------+-------------------------+-----------------------------+-----------------------------+------------+------------------+------------------+--------+--------+---------+----------+--------------------+-----------------------------+-------------------+-----------------------------+-------------------+-----------------------------+-------------------+\n",
      "|          crash_date|crash_time|      on_street_name|off_street_name|number_of_persons_injured|number_of_persons_killed|number_of_pedestrians_injured|number_of_pedestrians_killed|number_of_cyclist_injured|number_of_cyclist_killed|number_of_motorist_injured|number_of_motorist_killed|contributing_factor_vehicle_1|contributing_factor_vehicle_2|collision_id|vehicle_type_code1|vehicle_type_code2| borough|zip_code| latitude| longitude|   cross_street_name|contributing_factor_vehicle_3|vehicle_type_code_3|contributing_factor_vehicle_4|vehicle_type_code_4|contributing_factor_vehicle_5|vehicle_type_code_5|\n",
      "+--------------------+----------+--------------------+---------------+-------------------------+------------------------+-----------------------------+----------------------------+-------------------------+------------------------+--------------------------+-------------------------+-----------------------------+-----------------------------+------------+------------------+------------------+--------+--------+---------+----------+--------------------+-----------------------------+-------------------+-----------------------------+-------------------+-----------------------------+-------------------+\n",
      "|2021-09-11T00:00:...|      2:39|WHITESTONE EXPRES...|      20 AVENUE|                        2|                       0|                            0|                           0|                        0|                       0|                         2|                        0|         Aggressive Drivin...|                  Unspecified|     4455765|             Sedan|             Sedan|    NULL|    NULL|     NULL|      NULL|                NULL|                         NULL|               NULL|                         NULL|               NULL|                         NULL|               NULL|\n",
      "|2022-03-26T00:00:...|     11:45|QUEENSBORO BRIDGE...|           NULL|                        1|                       0|                            0|                           0|                        0|                       0|                         1|                        0|            Pavement Slippery|                         NULL|     4513547|             Sedan|              NULL|    NULL|    NULL|     NULL|      NULL|                NULL|                         NULL|               NULL|                         NULL|               NULL|                         NULL|               NULL|\n",
      "|2022-06-29T00:00:...|      6:55|  THROGS NECK BRIDGE|           NULL|                        0|                       0|                            0|                           0|                        0|                       0|                         0|                        0|         Following Too Clo...|                  Unspecified|     4541903|             Sedan|     Pick-up Truck|    NULL|    NULL|     NULL|      NULL|                NULL|                         NULL|               NULL|                         NULL|               NULL|                         NULL|               NULL|\n",
      "|2021-09-11T00:00:...|      9:35|                NULL|           NULL|                        0|                       0|                            0|                           0|                        0|                       0|                         0|                        0|                  Unspecified|                         NULL|     4456314|             Sedan|              NULL|BROOKLYN|   11208|40.667202|  -73.8665|1211      LORING ...|                         NULL|               NULL|                         NULL|               NULL|                         NULL|               NULL|\n",
      "|2021-12-14T00:00:...|      8:13|     SARATOGA AVENUE| DECATUR STREET|                        0|                       0|                            0|                           0|                        0|                       0|                         0|                        0|                         NULL|                         NULL|     4486609|              NULL|              NULL|BROOKLYN|   11233|40.683304|-73.917274|                NULL|                         NULL|               NULL|                         NULL|               NULL|                         NULL|               NULL|\n",
      "+--------------------+----------+--------------------+---------------+-------------------------+------------------------+-----------------------------+----------------------------+-------------------------+------------------------+--------------------------+-------------------------+-----------------------------+-----------------------------+------------+------------------+------------------+--------+--------+---------+----------+--------------------+-----------------------------+-------------------+-----------------------------+-------------------+-----------------------------+-------------------+\n",
      "only showing top 5 rows\n",
      "\n"
     ]
    }
   ],
   "source": [
    "#df_green.show(5)\n",
    "df_collisions.show(5)"
   ]
  }
 ],
 "metadata": {
  "kernelspec": {
   "display_name": "Python 3 (ipykernel)",
   "language": "python",
   "name": "python3"
  },
  "language_info": {
   "codemirror_mode": {
    "name": "ipython",
    "version": 3
   },
   "file_extension": ".py",
   "mimetype": "text/x-python",
   "name": "python",
   "nbconvert_exporter": "python",
   "pygments_lexer": "ipython3",
   "version": "3.11.5"
  }
 },
 "nbformat": 4,
 "nbformat_minor": 5
}
